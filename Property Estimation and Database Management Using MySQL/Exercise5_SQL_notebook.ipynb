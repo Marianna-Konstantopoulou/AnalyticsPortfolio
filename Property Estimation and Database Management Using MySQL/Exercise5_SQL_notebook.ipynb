{
 "cells": [
  {
   "cell_type": "code",
   "execution_count": 6,
   "id": "675fab5e",
   "metadata": {},
   "outputs": [],
   "source": [
    "#installation of mysql-connector\n",
    "import mysql.connector\n",
    "conn = mysql.connector.connect(\n",
    "    host='localhost', user='root', passwd='Wel8come', database='properties')\n",
    "myCursor = conn.cursor()"
   ]
  },
  {
   "cell_type": "code",
   "execution_count": 7,
   "id": "af8a87de",
   "metadata": {},
   "outputs": [],
   "source": [
    "def views():\n",
    "    list_views = []\n",
    "    #We created an empty list and we add the views created by mySQL in it\n",
    "    view1 = 'create view location_estimations2020_3 as\\\n",
    "                select location_code, cnt\\\n",
    "                            from (\\\n",
    "                                select x.location_code,\\\n",
    "                                    (select count(estimation.ecode)\\\n",
    "                                    from estimation\\\n",
    "                                    left join property\\\n",
    "                                        on estimation.property_id=property.property_id\\\n",
    "                                    where x.location_code = property.location_code and year(estimation_date) = 2020) as cnt\\\n",
    "                                from (\\\n",
    "                                select distinct location_code from property) as x) as y'\n",
    "\n",
    "    view2 = 'create view total_estimations2020_3 as\\\n",
    "                select count(estimation.ecode) as total_estimations\\\n",
    "                from property\\\n",
    "                join estimation on estimation.property_id=property.property_id and year(estimation_date)=2020\\\n",
    "                join location on property.location_code=location.location_code;'\n",
    "                \n",
    "    view3 = 'create view location_population2020_3 as\\\n",
    "                select location.location_code, location.population\\\n",
    "                from location;'\n",
    "\n",
    "    view4 = 'create view total_population2020_3 as\\\n",
    "                select sum(distinct(location.population)) as total_population\\\n",
    "                from property\\\n",
    "                join estimation on estimation.property_id=property.property_id and year(estimation_date)=2020\\\n",
    "                join location on property.location_code=location.location_code;'\n",
    "    for i in (view1, view2, view3, view4):\n",
    "        list_views.append(i)\n",
    "\n",
    "    return(list_views)\n"
   ]
  },
  {
   "cell_type": "code",
   "execution_count": 8,
   "id": "c307ff50",
   "metadata": {},
   "outputs": [],
   "source": [
    "def final():\n",
    "    final = 'select location_population2020_3.location_code as locations,\\\n",
    "    round((location_estimations2020_3.cnt/total_estimations2020_3.total_estimations * 100 ),2) as perc_est, \\\n",
    "    round((location_population2020_3.population/total_population2020_3.total_population * 100 ),2) as perc_pop\\\n",
    "                from total_estimations2020_3,  total_population2020_3, location_estimations2020_3\\\n",
    "                join location_population2020_3 on location_population2020_3.location_code=location_estimations2020_3.location_code;'\n",
    "    return final\n"
   ]
  },
  {
   "cell_type": "code",
   "execution_count": 9,
   "id": "5ea881e3",
   "metadata": {},
   "outputs": [],
   "source": [
    "def final_result():\n",
    "    # The cursor executes the views, the final query and prints the table with results\n",
    "    for i in views():\n",
    "        myCursor.execute(i)\n",
    "    myCursor.execute(final())\n",
    "    print(\"\\nExercise 5 result\\n\")\n",
    "    for location_code, perc_est, perc_pop in myCursor:\n",
    "        print(location_code, perc_est, perc_pop)\n"
   ]
  },
  {
   "cell_type": "code",
   "execution_count": 10,
   "id": "ae2de7d4",
   "metadata": {},
   "outputs": [
    {
     "name": "stdout",
     "output_type": "stream",
     "text": [
      "\n",
      "Exercise 5 result\n",
      "\n",
      "ALM 5.56 5.79\n",
      "CHL 16.67 10.48\n",
      "EGL 5.56 9.89\n",
      "GLF 27.78 12.36\n",
      "KFS 0.00 6.36\n",
      "KLT 16.67 14.13\n",
      "PER 16.67 19.78\n",
      "PIR 5.56 22.61\n",
      "VRL 5.56 4.95\n"
     ]
    }
   ],
   "source": [
    "if __name__ == \"__main__\":\n",
    "    final_result()"
   ]
  },
  {
   "cell_type": "code",
   "execution_count": null,
   "id": "71359a71",
   "metadata": {},
   "outputs": [],
   "source": []
  }
 ],
 "metadata": {
  "kernelspec": {
   "display_name": "Python 3",
   "language": "python",
   "name": "python3"
  },
  "language_info": {
   "codemirror_mode": {
    "name": "ipython",
    "version": 3
   },
   "file_extension": ".py",
   "mimetype": "text/x-python",
   "name": "python",
   "nbconvert_exporter": "python",
   "pygments_lexer": "ipython3",
   "version": "3.8.8"
  }
 },
 "nbformat": 4,
 "nbformat_minor": 5
}
