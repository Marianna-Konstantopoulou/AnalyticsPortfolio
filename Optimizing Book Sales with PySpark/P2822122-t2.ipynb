{
 "cells": [
  {
   "cell_type": "markdown",
   "id": "701f6763-2370-40ff-b3ac-c86a5953500c",
   "metadata": {},
   "source": [
    "# Spark Assignment Task 2\n",
    "\n",
    "## Big Data Systems\n",
    "\n",
    "---\n",
    "\n",
    "> Marianna Konstantopoulou <br />\n",
    "> P2822122 <br />\n",
    "> MSc Business Analytics Part Time <br />"
   ]
  },
  {
   "cell_type": "code",
   "execution_count": 2,
   "id": "a608c378-441b-49fb-9195-e5898e5d93bf",
   "metadata": {},
   "outputs": [
    {
     "name": "stdout",
     "output_type": "stream",
     "text": [
      "+----------+--------------------+--------------+--------+------------+--------------------+-------------------+---------+--------------------+--------+----------+-------------+-----------+-------------+--------------------+---------+--------------------+---------------+-----------------+----------------+--------------------+-------------+--------------------+--------------------+------------------+--------------------+--------------------+--------------------+--------+\n",
      "|      asin|             authors|average_rating| book_id|country_code|         description|edition_information|   format|           image_url|is_ebook|      isbn|       isbn13|kindle_asin|language_code|                link|num_pages|     popular_shelves|publication_day|publication_month|publication_year|           publisher|ratings_count|              series|       similar_books|text_reviews_count|               title|title_without_series|                 url| work_id|\n",
      "+----------+--------------------+--------------+--------+------------+--------------------+-------------------+---------+--------------------+--------+----------+-------------+-----------+-------------+--------------------+---------+--------------------+---------------+-----------------+----------------+--------------------+-------------+--------------------+--------------------+------------------+--------------------+--------------------+--------------------+--------+\n",
      "|B00NLXQ534|       [{8551671, }]|          4.12|25742454|          US|Lillian Ann Cross...|                   |         |https://s.gr-asse...|    true|          |             |           |             |https://www.goodr...|         |[{228, to-read}, ...|               |                 |                |                    |            1|                  []|[25653153, 256991...|                 1|The Switchblade M...|The Switchblade M...|https://www.goodr...|42749946|\n",
      "|          |       [{3274315, }]|          3.94|30128855|          US|Florence Dupre La...|                   |         |https://images.gr...|   false|2205073346|             |           |          fre|https://www.goodr...|         |[{2, bd}, {2, to-...|             22|                1|            2016|             Dargaud|           16|                  []|                  []|                 2|             Cruelle|             Cruelle|https://www.goodr...|50558228|\n",
      "|          |         [{37450, }]|          4.28|13571772|          US|The questions pla...|                   |Hardcover|https://images.gr...|   false|          |             |           |          eng|https://www.goodr...|      146|[{493, to-read}, ...|               |                 |            2012|Hachette Partwork...|           51|[246830, 362583, ...|[13590139, 105963...|                 5|Captain America: ...|Captain America: ...|https://www.goodr...|  102217|\n",
      "|B06XKGGSB7|[{16209952, }, {8...|          4.05|35452242|          US|The fight for Jas...|                   |         |https://s.gr-asse...|    true|          |             | B06XKGGSB7|          eng|https://www.goodr...|         |[{222, to-read}, ...|               |                 |                |                    |            6|                  []|                  []|                 1|Bounty Hunter 4/3...|Bounty Hunter 4/3...|https://www.goodr...|54276229|\n",
      "|          |[{81563, }, {8953...|          4.06|  707611|          US|These are the sto...|                   |Hardcover|https://images.gr...|   false|0930289765|9780930289768|           |        en-US|https://www.goodr...|      272|[{20, to-read}, {...|             14|               11|            1997|           DC Comics|           51|   [266759, 1096220]|                  []|                 6|Superman Archives...|Superman Archives...|https://www.goodr...|  693886|\n",
      "+----------+--------------------+--------------+--------+------------+--------------------+-------------------+---------+--------------------+--------+----------+-------------+-----------+-------------+--------------------+---------+--------------------+---------------+-----------------+----------------+--------------------+-------------+--------------------+--------------------+------------------+--------------------+--------------------+--------------------+--------+\n",
      "only showing top 5 rows\n",
      "\n"
     ]
    }
   ],
   "source": [
    "#First we load the dataset\n",
    "from pyspark.sql import SparkSession\n",
    "\n",
    "spark = SparkSession.builder.appName(\"bookstore\").getOrCreate()\n",
    "\n",
    "dataset = spark.read.json(\"books_5000.json\")\n",
    "dataset.show(5)"
   ]
  },
  {
   "cell_type": "markdown",
   "id": "7a44903c-66a6-445c-b4b4-9296d7f7c675",
   "metadata": {},
   "source": [
    "* Return the “book_id” and “title” of the book with the largest “average_rating” that its title starts with the first letter of your last name."
   ]
  },
  {
   "cell_type": "code",
   "execution_count": 81,
   "id": "643d390f-b01f-4b7e-8c2c-16fbee4a43b3",
   "metadata": {},
   "outputs": [
    {
     "name": "stdout",
     "output_type": "stream",
     "text": [
      "+--------+--------------------+\n",
      "| book_id|               title|\n",
      "+--------+--------------------+\n",
      "|23797104|Kamandi: The Last...|\n",
      "+--------+--------------------+\n",
      "only showing top 1 row\n",
      "\n"
     ]
    }
   ],
   "source": [
    "from pyspark.sql.functions import *\n",
    "dataset.select('book_id', 'title').filter((dataset.title.startswith('K'))).orderBy(col(\"average_rating\").desc()).show(1)\n",
    "#The command selects the columns book_id, title, it filters the rows that start with letter \"K\" then it orders the rows\n",
    "#based on column average_rating with descending order and then I only show the first row that has the highest rating."
   ]
  },
  {
   "cell_type": "markdown",
   "id": "e4f3a861-bd13-46a5-92e1-abe3fe9d2b7d",
   "metadata": {},
   "source": [
    "* It returns the average “average_rating” of the books that their title starts with the *second* letter of your last name."
   ]
  },
  {
   "cell_type": "code",
   "execution_count": 61,
   "id": "0a21c902-1062-4d2a-98b7-6dd1e6496da2",
   "metadata": {},
   "outputs": [
    {
     "name": "stdout",
     "output_type": "stream",
     "text": [
      "+-------------------+\n",
      "|avg(average_rating)|\n",
      "+-------------------+\n",
      "| 3.9694047619047614|\n",
      "+-------------------+\n",
      "\n"
     ]
    }
   ],
   "source": [
    "dataset.select('average_rating').filter((dataset.title.startswith('O'))).agg(avg(col(\"average_rating\"))).show()\n",
    "#The above command selectes the column average_rating and filters the titles that start with letter \"O\", then I do an aggregation\n",
    "#and calculate the average \"average_rating\" of the books that their title starts with \"O\"."
   ]
  },
  {
   "cell_type": "markdown",
   "id": "25e34165-af2a-4720-a812-a0073d8b89ce",
   "metadata": {},
   "source": [
    "* It returns the “book_id” and “title” of the Paperback book with the most pages, when only books with title starting with the *third* letter of your last name are considered."
   ]
  },
  {
   "cell_type": "code",
   "execution_count": 80,
   "id": "6e97c60d-665f-4c14-bcdd-a6ebff2992ef",
   "metadata": {},
   "outputs": [
    {
     "name": "stdout",
     "output_type": "stream",
     "text": [
      "+--------------------+\n",
      "|              format|\n",
      "+--------------------+\n",
      "|Paperback comic book|\n",
      "|           Paperback|\n",
      "|Bolsillo con sobr...|\n",
      "|       Audible Audio|\n",
      "|           paperback|\n",
      "|     Library Binding|\n",
      "|          Board book|\n",
      "|     Klappenbroschur|\n",
      "|                Nook|\n",
      "|         Illustrated|\n",
      "|     Unknown Binding|\n",
      "|           Hardcover|\n",
      "|               Issue|\n",
      "|               Album|\n",
      "|             Webtoon|\n",
      "|                Book|\n",
      "|     Paperback Manga|\n",
      "|      Kindle Edition|\n",
      "|              Comics|\n",
      "|           hardcover|\n",
      "+--------------------+\n",
      "only showing top 20 rows\n",
      "\n"
     ]
    }
   ],
   "source": [
    "dataset.select('format').distinct().show()\n",
    "#First we check if Paperback is part of the format column"
   ]
  },
  {
   "cell_type": "code",
   "execution_count": 77,
   "id": "444342e4-23b0-44d4-b7b3-68826c170aaa",
   "metadata": {},
   "outputs": [
    {
     "data": {
      "text/plain": [
       "[('asin', 'string'),\n",
       " ('authors', 'array<struct<author_id:string,role:string>>'),\n",
       " ('average_rating', 'string'),\n",
       " ('book_id', 'string'),\n",
       " ('country_code', 'string'),\n",
       " ('description', 'string'),\n",
       " ('edition_information', 'string'),\n",
       " ('format', 'string'),\n",
       " ('image_url', 'string'),\n",
       " ('is_ebook', 'string'),\n",
       " ('isbn', 'string'),\n",
       " ('isbn13', 'string'),\n",
       " ('kindle_asin', 'string'),\n",
       " ('language_code', 'string'),\n",
       " ('link', 'string'),\n",
       " ('num_pages', 'int'),\n",
       " ('popular_shelves', 'array<struct<count:string,name:string>>'),\n",
       " ('publication_day', 'string'),\n",
       " ('publication_month', 'string'),\n",
       " ('publication_year', 'string'),\n",
       " ('publisher', 'string'),\n",
       " ('ratings_count', 'string'),\n",
       " ('series', 'array<string>'),\n",
       " ('similar_books', 'array<string>'),\n",
       " ('text_reviews_count', 'string'),\n",
       " ('title', 'string'),\n",
       " ('title_without_series', 'string'),\n",
       " ('url', 'string'),\n",
       " ('work_id', 'string')]"
      ]
     },
     "execution_count": 77,
     "metadata": {},
     "output_type": "execute_result"
    }
   ],
   "source": [
    "from pyspark.sql.types import IntegerType\n",
    "dataset = dataset.withColumn(\"num_pages\", dataset[\"num_pages\"].cast(IntegerType()))\n",
    "dataset.dtypes\n",
    "#When I tried to execute the next command I noticed the column \"num_pages\" wasn't sorted correctly because the column type was string, so I convert it to Integer type."
   ]
  },
  {
   "cell_type": "code",
   "execution_count": 79,
   "id": "be93e7c1-3480-42bc-806c-2a347447718f",
   "metadata": {},
   "outputs": [
    {
     "name": "stdout",
     "output_type": "stream",
     "text": [
      "+--------+--------------------+---------+\n",
      "| book_id|               title|num_pages|\n",
      "+--------+--------------------+---------+\n",
      "|10324691|Naruto (3-in-1 Ed...|      600|\n",
      "+--------+--------------------+---------+\n",
      "only showing top 1 row\n",
      "\n"
     ]
    }
   ],
   "source": [
    "dataset.select('book_id', 'title', 'num_pages').filter((dataset.format.contains(\"Paperback\")) & (dataset.title.startswith('N')) ).orderBy(col(\"num_pages\").desc()).show(1)\n",
    "#This command select columns \"book_id\", \"title\" and \"num_pages\" and then it filters only books with Paperback format and titles that start with \"N\", then I order the rows\n",
    "#based on column \"num_pages\" (that I converted previously to integer\")in descending order and I choose the first row that had the book with most pages."
   ]
  }
 ],
 "metadata": {
  "kernelspec": {
   "display_name": "Python 3 (ipykernel)",
   "language": "python",
   "name": "python3"
  },
  "language_info": {
   "codemirror_mode": {
    "name": "ipython",
    "version": 3
   },
   "file_extension": ".py",
   "mimetype": "text/x-python",
   "name": "python",
   "nbconvert_exporter": "python",
   "pygments_lexer": "ipython3",
   "version": "3.9.10"
  }
 },
 "nbformat": 4,
 "nbformat_minor": 5
}
