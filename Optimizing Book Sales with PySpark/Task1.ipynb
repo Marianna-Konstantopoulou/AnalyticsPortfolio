{
 "cells": [
  {
   "cell_type": "markdown",
   "id": "8aadb53d-4b87-4df5-87c6-d36558e29c69",
   "metadata": {},
   "source": [
    "# Spark Assignment Task 1\n",
    "\n",
    "## Big Data Systems\n",
    "\n",
    "---\n",
    "\n",
    "> Marianna Konstantopoulou <br />\n",
    "> P2822122 <br />\n",
    "> MSc Business Analytics Part Time <br />"
   ]
  },
  {
   "cell_type": "markdown",
   "id": "2c343056-98a4-47d8-907e-8120f9289a6d",
   "metadata": {},
   "source": [
    "* We will use the json() function to load the dataset."
   ]
  },
  {
   "cell_type": "code",
   "execution_count": 5,
   "id": "2ee6510e-26b7-4ef6-8528-7d3635ad19ed",
   "metadata": {},
   "outputs": [
    {
     "name": "stdout",
     "output_type": "stream",
     "text": [
      "+----------+--------------------+--------------+--------+------------+--------------------+-------------------+---------+--------------------+--------+----------+-------------+-----------+-------------+--------------------+---------+--------------------+---------------+-----------------+----------------+--------------------+-------------+--------------------+--------------------+------------------+--------------------+--------------------+--------------------+--------+\n",
      "|      asin|             authors|average_rating| book_id|country_code|         description|edition_information|   format|           image_url|is_ebook|      isbn|       isbn13|kindle_asin|language_code|                link|num_pages|     popular_shelves|publication_day|publication_month|publication_year|           publisher|ratings_count|              series|       similar_books|text_reviews_count|               title|title_without_series|                 url| work_id|\n",
      "+----------+--------------------+--------------+--------+------------+--------------------+-------------------+---------+--------------------+--------+----------+-------------+-----------+-------------+--------------------+---------+--------------------+---------------+-----------------+----------------+--------------------+-------------+--------------------+--------------------+------------------+--------------------+--------------------+--------------------+--------+\n",
      "|B00NLXQ534|       [{8551671, }]|          4.12|25742454|          US|Lillian Ann Cross...|                   |         |https://s.gr-asse...|    true|          |             |           |             |https://www.goodr...|         |[{228, to-read}, ...|               |                 |                |                    |            1|                  []|[25653153, 256991...|                 1|The Switchblade M...|The Switchblade M...|https://www.goodr...|42749946|\n",
      "|          |       [{3274315, }]|          3.94|30128855|          US|Florence Dupre La...|                   |         |https://images.gr...|   false|2205073346|             |           |          fre|https://www.goodr...|         |[{2, bd}, {2, to-...|             22|                1|            2016|             Dargaud|           16|                  []|                  []|                 2|             Cruelle|             Cruelle|https://www.goodr...|50558228|\n",
      "|          |         [{37450, }]|          4.28|13571772|          US|The questions pla...|                   |Hardcover|https://images.gr...|   false|          |             |           |          eng|https://www.goodr...|      146|[{493, to-read}, ...|               |                 |            2012|Hachette Partwork...|           51|[246830, 362583, ...|[13590139, 105963...|                 5|Captain America: ...|Captain America: ...|https://www.goodr...|  102217|\n",
      "|B06XKGGSB7|[{16209952, }, {8...|          4.05|35452242|          US|The fight for Jas...|                   |         |https://s.gr-asse...|    true|          |             | B06XKGGSB7|          eng|https://www.goodr...|         |[{222, to-read}, ...|               |                 |                |                    |            6|                  []|                  []|                 1|Bounty Hunter 4/3...|Bounty Hunter 4/3...|https://www.goodr...|54276229|\n",
      "|          |[{81563, }, {8953...|          4.06|  707611|          US|These are the sto...|                   |Hardcover|https://images.gr...|   false|0930289765|9780930289768|           |        en-US|https://www.goodr...|      272|[{20, to-read}, {...|             14|               11|            1997|           DC Comics|           51|   [266759, 1096220]|                  []|                 6|Superman Archives...|Superman Archives...|https://www.goodr...|  693886|\n",
      "+----------+--------------------+--------------+--------+------------+--------------------+-------------------+---------+--------------------+--------+----------+-------------+-----------+-------------+--------------------+---------+--------------------+---------------+-----------------+----------------+--------------------+-------------+--------------------+--------------------+------------------+--------------------+--------------------+--------------------+--------+\n",
      "only showing top 5 rows\n",
      "\n"
     ]
    }
   ],
   "source": [
    "from pyspark.sql import SparkSession\n",
    "\n",
    "spark = SparkSession.builder.appName(\"bookstore\").getOrCreate()\n",
    "\n",
    "dataset = spark.read.json(\"books_5000.json\")\n",
    "dataset.show(5)"
   ]
  },
  {
   "cell_type": "markdown",
   "id": "9c51d780-7cc5-4a6d-9ea3-33dd4eab610b",
   "metadata": {},
   "source": [
    "* We count and display the number of books in the database."
   ]
  },
  {
   "cell_type": "code",
   "execution_count": 6,
   "id": "3794556e-6eef-4ba2-a0e3-e5e1899c8716",
   "metadata": {},
   "outputs": [
    {
     "data": {
      "text/plain": [
       "4999"
      ]
     },
     "execution_count": 6,
     "metadata": {},
     "output_type": "execute_result"
    }
   ],
   "source": [
    "dataset.count()"
   ]
  },
  {
   "cell_type": "markdown",
   "id": "f9019add-521b-4b5b-b334-e611f705ef0f",
   "metadata": {},
   "source": [
    "* We count and display the number of e-books in the database."
   ]
  },
  {
   "cell_type": "code",
   "execution_count": 11,
   "id": "e679e95f-68f9-4042-a158-7a80371396d1",
   "metadata": {},
   "outputs": [
    {
     "data": {
      "text/plain": [
       "749"
      ]
     },
     "execution_count": 11,
     "metadata": {},
     "output_type": "execute_result"
    }
   ],
   "source": [
    "dataset.select('is_ebook').where(dataset.is_ebook == True).count()"
   ]
  },
  {
   "cell_type": "markdown",
   "id": "41ae5ff6-18db-4347-b8cc-efec5861a54c",
   "metadata": {},
   "source": [
    "* We use the summary() command to display basic statistics about the “average_rating” field."
   ]
  },
  {
   "cell_type": "code",
   "execution_count": 12,
   "id": "67f9a4ab-0dbc-4491-8ed5-2a0c02009bf8",
   "metadata": {},
   "outputs": [
    {
     "name": "stdout",
     "output_type": "stream",
     "text": [
      "+-------+-------------------+\n",
      "|summary|     average_rating|\n",
      "+-------+-------------------+\n",
      "|  count|               4999|\n",
      "|   mean| 3.9112042408481678|\n",
      "| stddev|0.43444489528688784|\n",
      "|    min|               1.00|\n",
      "|    25%|               3.66|\n",
      "|    50%|               3.98|\n",
      "|    75%|               4.23|\n",
      "|    max|               5.00|\n",
      "+-------+-------------------+\n",
      "\n"
     ]
    }
   ],
   "source": [
    "dataset.select(\"average_rating\").summary().show()"
   ]
  },
  {
   "cell_type": "markdown",
   "id": "c8529c25-148f-4c8c-9078-a69a2c922b9c",
   "metadata": {},
   "source": [
    "The rating has mean 3.9 and the maximum rating is 5 while the minimum is 1."
   ]
  },
  {
   "cell_type": "markdown",
   "id": "6c3cb375-deef-4175-85a8-921e5ef847b8",
   "metadata": {},
   "source": [
    "* We display all distinct values in the “format” field and their number of appearances."
   ]
  },
  {
   "cell_type": "code",
   "execution_count": 15,
   "id": "cff4c1ad-9e90-42e1-88c3-db25b2cf6cc6",
   "metadata": {},
   "outputs": [
    {
     "name": "stdout",
     "output_type": "stream",
     "text": [
      "+--------------------+-----+\n",
      "|              format|count|\n",
      "+--------------------+-----+\n",
      "|Paperback comic book|    1|\n",
      "|           Paperback| 2629|\n",
      "|Bolsillo con sobr...|    2|\n",
      "|       Audible Audio|    1|\n",
      "|           paperback|    2|\n",
      "|     Library Binding|    2|\n",
      "|          Board book|   11|\n",
      "|     Klappenbroschur|    1|\n",
      "|                Nook|    1|\n",
      "|         Illustrated|    2|\n",
      "|     Unknown Binding|    7|\n",
      "|           Hardcover|  826|\n",
      "|               Issue|    1|\n",
      "|               Album|    2|\n",
      "|             Webtoon|    2|\n",
      "|                Book|    1|\n",
      "|     Paperback Manga|    2|\n",
      "|      Kindle Edition|   41|\n",
      "|              Comics|    2|\n",
      "|           hardcover|    1|\n",
      "+--------------------+-----+\n",
      "only showing top 20 rows\n",
      "\n"
     ]
    }
   ],
   "source": [
    "dataset.groupby(\"format\").count().show()"
   ]
  }
 ],
 "metadata": {
  "kernelspec": {
   "display_name": "Python 3 (ipykernel)",
   "language": "python",
   "name": "python3"
  },
  "language_info": {
   "codemirror_mode": {
    "name": "ipython",
    "version": 3
   },
   "file_extension": ".py",
   "mimetype": "text/x-python",
   "name": "python",
   "nbconvert_exporter": "python",
   "pygments_lexer": "ipython3",
   "version": "3.9.10"
  }
 },
 "nbformat": 4,
 "nbformat_minor": 5
}
